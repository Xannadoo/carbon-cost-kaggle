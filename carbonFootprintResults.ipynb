{
 "cells": [
  {
   "cell_type": "code",
   "execution_count": 2,
   "id": "fb4c3d2c",
   "metadata": {},
   "outputs": [],
   "source": [
    "import pandas as pd"
   ]
  },
  {
   "cell_type": "code",
   "execution_count": 16,
   "id": "0ff28a71",
   "metadata": {},
   "outputs": [],
   "source": [
    "PATH = \"results/\""
   ]
  },
  {
   "cell_type": "markdown",
   "id": "b9b41a54",
   "metadata": {},
   "source": [
    "# Kaggle Competition"
   ]
  },
  {
   "cell_type": "markdown",
   "id": "38a3f83f",
   "metadata": {},
   "source": [
    "## Pipeline1: Pretraining"
   ]
  },
  {
   "cell_type": "code",
   "execution_count": 27,
   "id": "7776407c",
   "metadata": {},
   "outputs": [],
   "source": [
    "pretrain_1_file = PATH+\"siim_pretrain_results_1epoch.csv\"\n",
    "pretrain_full_file = PATH+\"siim_pretrain_results_full.csv\""
   ]
  },
  {
   "cell_type": "code",
   "execution_count": 29,
   "id": "095fcae0",
   "metadata": {},
   "outputs": [],
   "source": [
    "ptrain_1 = pd.read_csv(pretrain_1_file)\n",
    "ptrain_full = pd.read_csv(pretrain_full_file)"
   ]
  },
  {
   "cell_type": "markdown",
   "id": "a6c5c825",
   "metadata": {},
   "source": [
    "## Pipeline1: Training"
   ]
  },
  {
   "cell_type": "code",
   "execution_count": 30,
   "id": "315e59f6",
   "metadata": {},
   "outputs": [],
   "source": [
    "train_1_file = PATH+\"siim_train_results_1epoch.csv\"\n",
    "train_full_file = PATH+\"siim_train_results_full.csv\""
   ]
  },
  {
   "cell_type": "code",
   "execution_count": 31,
   "id": "b3e34b5a",
   "metadata": {},
   "outputs": [],
   "source": [
    "train_1 = pd.read_csv(train_1_file)\n",
    "train_full = pd.read_csv(train_full_file)"
   ]
  },
  {
   "cell_type": "code",
   "execution_count": null,
   "id": "b798e569",
   "metadata": {},
   "outputs": [],
   "source": []
  },
  {
   "cell_type": "markdown",
   "id": "960ef396",
   "metadata": {},
   "source": [
    "# RevisitingTransfer"
   ]
  },
  {
   "cell_type": "markdown",
   "id": "bdbf3e17",
   "metadata": {},
   "source": [
    "## Base: ImageNet Freeze=False"
   ]
  },
  {
   "cell_type": "code",
   "execution_count": 32,
   "id": "c8fdf15c",
   "metadata": {},
   "outputs": [],
   "source": [
    "rt_frz_false_file = PATH+\"rt_imagenet_frzfalse_results.csv\"\n",
    "rt_frz_false = pd.read_csv(rt_frz_false_file)"
   ]
  },
  {
   "cell_type": "markdown",
   "id": "b7ed06d5",
   "metadata": {},
   "source": [
    "## Base: ImageNet Freeze=True"
   ]
  },
  {
   "cell_type": "code",
   "execution_count": 34,
   "id": "b01944da",
   "metadata": {},
   "outputs": [],
   "source": [
    "rt_frz_true_file = PATH+\"rt_imagenet_frztrue_results.csv\"\n",
    "rt_frz_true = pd.read_csv(rt_frz_true_file)"
   ]
  },
  {
   "cell_type": "code",
   "execution_count": null,
   "id": "34250bfe",
   "metadata": {},
   "outputs": [],
   "source": []
  }
 ],
 "metadata": {
  "kernelspec": {
   "display_name": "Python 3 (ipykernel)",
   "language": "python",
   "name": "python3"
  },
  "language_info": {
   "codemirror_mode": {
    "name": "ipython",
    "version": 3
   },
   "file_extension": ".py",
   "mimetype": "text/x-python",
   "name": "python",
   "nbconvert_exporter": "python",
   "pygments_lexer": "ipython3",
   "version": "3.10.9"
  }
 },
 "nbformat": 4,
 "nbformat_minor": 5
}
