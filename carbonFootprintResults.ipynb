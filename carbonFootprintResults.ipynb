{
 "cells": [
  {
   "cell_type": "code",
   "execution_count": null,
   "id": "f41da915",
   "metadata": {},
   "outputs": [],
   "source": []
  },
  {
   "cell_type": "markdown",
   "id": "3e49641d",
   "metadata": {},
   "source": [
    "# Kaggle Competition"
   ]
  },
  {
   "cell_type": "markdown",
   "id": "16f67c42",
   "metadata": {},
   "source": [
    "## Pipeline1: Pretraining\n",
    "\n",
    "Using config file: cait_pretraining job.126331.out\n",
    "Actual consumption for 1 epoch(s):\n",
    "        Time:   8:00:33\n",
    "        Energy: 2.800010 kWh\n",
    "        CO2eq:  299.601022 g\n",
    "        This is equivalent to:\n",
    "        2.786986 km travelled by car\n",
    "CarbonTracker:\n",
    "Predicted consumption for 5 epoch(s):\n",
    "        Time:   40:02:47\n",
    "        Energy: 14.000048 kWh\n",
    "        CO2eq:  1126.210028 g\n",
    "        This is equivalent to:\n",
    "        10.476372 km travelled by car"
   ]
  },
  {
   "cell_type": "code",
   "execution_count": null,
   "id": "69b9224b",
   "metadata": {},
   "outputs": [],
   "source": []
  },
  {
   "cell_type": "markdown",
   "id": "eb6ec6db",
   "metadata": {},
   "source": [
    "## Pipeline1: Training"
   ]
  },
  {
   "cell_type": "code",
   "execution_count": null,
   "id": "3b2dd549",
   "metadata": {},
   "outputs": [],
   "source": []
  },
  {
   "cell_type": "code",
   "execution_count": null,
   "id": "5dd426e7",
   "metadata": {},
   "outputs": [],
   "source": []
  },
  {
   "cell_type": "code",
   "execution_count": null,
   "id": "825eab38",
   "metadata": {},
   "outputs": [],
   "source": []
  }
 ],
 "metadata": {
  "kernelspec": {
   "display_name": "Python 3 (ipykernel)",
   "language": "python",
   "name": "python3"
  },
  "language_info": {
   "codemirror_mode": {
    "name": "ipython",
    "version": 3
   },
   "file_extension": ".py",
   "mimetype": "text/x-python",
   "name": "python",
   "nbconvert_exporter": "python",
   "pygments_lexer": "ipython3",
   "version": "3.10.9"
  }
 },
 "nbformat": 4,
 "nbformat_minor": 5
}
