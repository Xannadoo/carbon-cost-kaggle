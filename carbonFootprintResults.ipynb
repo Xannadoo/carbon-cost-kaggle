{
 "cells": [
  {
   "cell_type": "markdown",
   "id": "fb7263e3",
   "metadata": {},
   "source": [
    "# Computing the Carbon Footprint of a Kaggle Competition"
   ]
  },
  {
   "cell_type": "code",
   "execution_count": 1,
   "id": "edc67d1b",
   "metadata": {},
   "outputs": [],
   "source": [
    "import pandas as pd"
   ]
  },
  {
   "cell_type": "code",
   "execution_count": 2,
   "id": "9911559d",
   "metadata": {},
   "outputs": [],
   "source": [
    "PATH = \"results/\""
   ]
  },
  {
   "cell_type": "markdown",
   "id": "34fdae14",
   "metadata": {},
   "source": [
    "# Kaggle Competition: Team 2"
   ]
  },
  {
   "cell_type": "markdown",
   "id": "bdfc2b03",
   "metadata": {},
   "source": [
    "## Pipeline1: Pretraining"
   ]
  },
  {
   "cell_type": "code",
   "execution_count": 3,
   "id": "24e41da9",
   "metadata": {},
   "outputs": [
    {
     "data": {
      "text/html": [
       "<div>\n",
       "<style scoped>\n",
       "    .dataframe tbody tr th:only-of-type {\n",
       "        vertical-align: middle;\n",
       "    }\n",
       "\n",
       "    .dataframe tbody tr th {\n",
       "        vertical-align: top;\n",
       "    }\n",
       "\n",
       "    .dataframe thead th {\n",
       "        text-align: right;\n",
       "    }\n",
       "</style>\n",
       "<table border=\"1\" class=\"dataframe\">\n",
       "  <thead>\n",
       "    <tr style=\"text-align: right;\">\n",
       "      <th></th>\n",
       "      <th>training_file</th>\n",
       "      <th>time</th>\n",
       "      <th>energy(kWh)</th>\n",
       "      <th>CO2eq(g)</th>\n",
       "      <th>distance(km)</th>\n",
       "    </tr>\n",
       "  </thead>\n",
       "  <tbody>\n",
       "    <tr>\n",
       "      <th>0</th>\n",
       "      <td>cait_pretraining</td>\n",
       "      <td>8:00:33</td>\n",
       "      <td>2.800010</td>\n",
       "      <td>299.601022</td>\n",
       "      <td>2.786986</td>\n",
       "    </tr>\n",
       "    <tr>\n",
       "      <th>1</th>\n",
       "      <td>f1_pretraining</td>\n",
       "      <td>11:55:04</td>\n",
       "      <td>4.303103</td>\n",
       "      <td>218.651446</td>\n",
       "      <td>2.033967</td>\n",
       "    </tr>\n",
       "    <tr>\n",
       "      <th>2</th>\n",
       "      <td>f3_pretraining</td>\n",
       "      <td>22:14:23</td>\n",
       "      <td>8.025735</td>\n",
       "      <td>229.189462</td>\n",
       "      <td>2.131995</td>\n",
       "    </tr>\n",
       "    <tr>\n",
       "      <th>3</th>\n",
       "      <td>l1_pretraining</td>\n",
       "      <td>11:25:01</td>\n",
       "      <td>2.749729</td>\n",
       "      <td>167.122448</td>\n",
       "      <td>1.554627</td>\n",
       "    </tr>\n",
       "    <tr>\n",
       "      <th>4</th>\n",
       "      <td>l1b_pretraining</td>\n",
       "      <td>11:06:12</td>\n",
       "      <td>2.648516</td>\n",
       "      <td>69.744261</td>\n",
       "      <td>0.648784</td>\n",
       "    </tr>\n",
       "    <tr>\n",
       "      <th>5</th>\n",
       "      <td>l2_pretraining</td>\n",
       "      <td>15:49:29</td>\n",
       "      <td>3.752667</td>\n",
       "      <td>113.056541</td>\n",
       "      <td>1.051689</td>\n",
       "    </tr>\n",
       "    <tr>\n",
       "      <th>6</th>\n",
       "      <td>n_cf2_pretraining</td>\n",
       "      <td>10:59:26</td>\n",
       "      <td>2.629704</td>\n",
       "      <td>71.061763</td>\n",
       "      <td>0.661040</td>\n",
       "    </tr>\n",
       "  </tbody>\n",
       "</table>\n",
       "</div>"
      ],
      "text/plain": [
       "       training_file      time  energy(kWh)    CO2eq(g)  distance(km)\n",
       "0   cait_pretraining   8:00:33     2.800010  299.601022      2.786986\n",
       "1     f1_pretraining  11:55:04     4.303103  218.651446      2.033967\n",
       "2     f3_pretraining  22:14:23     8.025735  229.189462      2.131995\n",
       "3     l1_pretraining  11:25:01     2.749729  167.122448      1.554627\n",
       "4    l1b_pretraining  11:06:12     2.648516   69.744261      0.648784\n",
       "5     l2_pretraining  15:49:29     3.752667  113.056541      1.051689\n",
       "6  n_cf2_pretraining  10:59:26     2.629704   71.061763      0.661040"
      ]
     },
     "execution_count": 3,
     "metadata": {},
     "output_type": "execute_result"
    }
   ],
   "source": [
    "# This is for 1 fold, out of 5\n",
    "# This will be used to find OUR carbon footprint\n",
    "pretrain_1_file = PATH+\"siim_pretrain_results_1epoch.csv\"\n",
    "ptrain_1 = pd.read_csv(pretrain_1_file)\n",
    "\n",
    "ptrain_1"
   ]
  },
  {
   "cell_type": "code",
   "execution_count": 5,
   "id": "22bde282",
   "metadata": {},
   "outputs": [
    {
     "data": {
      "text/html": [
       "<div>\n",
       "<style scoped>\n",
       "    .dataframe tbody tr th:only-of-type {\n",
       "        vertical-align: middle;\n",
       "    }\n",
       "\n",
       "    .dataframe tbody tr th {\n",
       "        vertical-align: top;\n",
       "    }\n",
       "\n",
       "    .dataframe thead th {\n",
       "        text-align: right;\n",
       "    }\n",
       "</style>\n",
       "<table border=\"1\" class=\"dataframe\">\n",
       "  <thead>\n",
       "    <tr style=\"text-align: right;\">\n",
       "      <th></th>\n",
       "      <th>training_file</th>\n",
       "      <th>time</th>\n",
       "      <th>energy(kWh)</th>\n",
       "      <th>CO2eq(g)</th>\n",
       "      <th>distance(km)</th>\n",
       "    </tr>\n",
       "  </thead>\n",
       "  <tbody>\n",
       "    <tr>\n",
       "      <th>0</th>\n",
       "      <td>cait_pretraining</td>\n",
       "      <td>40:02:47</td>\n",
       "      <td>14.000048</td>\n",
       "      <td>1126.210028</td>\n",
       "      <td>10.476372</td>\n",
       "    </tr>\n",
       "    <tr>\n",
       "      <th>1</th>\n",
       "      <td>f1_pretraining</td>\n",
       "      <td>59:35:21</td>\n",
       "      <td>21.515517</td>\n",
       "      <td>1024.948272</td>\n",
       "      <td>9.534403</td>\n",
       "    </tr>\n",
       "    <tr>\n",
       "      <th>2</th>\n",
       "      <td>f3_pretraining</td>\n",
       "      <td>111:11:54</td>\n",
       "      <td>40.128676</td>\n",
       "      <td>1194.298670</td>\n",
       "      <td>11.109755</td>\n",
       "    </tr>\n",
       "    <tr>\n",
       "      <th>3</th>\n",
       "      <td>l1_pretraining</td>\n",
       "      <td>57:05:03</td>\n",
       "      <td>13.748647</td>\n",
       "      <td>631.333879</td>\n",
       "      <td>5.872873</td>\n",
       "    </tr>\n",
       "    <tr>\n",
       "      <th>4</th>\n",
       "      <td>l1b_pretraining</td>\n",
       "      <td>55:31:01</td>\n",
       "      <td>13.242581</td>\n",
       "      <td>334.029285</td>\n",
       "      <td>3.107249</td>\n",
       "    </tr>\n",
       "    <tr>\n",
       "      <th>5</th>\n",
       "      <td>l2_pretraining</td>\n",
       "      <td>79:07:25</td>\n",
       "      <td>18.763335</td>\n",
       "      <td>516.337360</td>\n",
       "      <td>4.803138</td>\n",
       "    </tr>\n",
       "    <tr>\n",
       "      <th>6</th>\n",
       "      <td>n_cf2_pretraining</td>\n",
       "      <td>54:57:12</td>\n",
       "      <td>13.148518</td>\n",
       "      <td>431.759478</td>\n",
       "      <td>4.016367</td>\n",
       "    </tr>\n",
       "  </tbody>\n",
       "</table>\n",
       "</div>"
      ],
      "text/plain": [
       "       training_file       time  energy(kWh)     CO2eq(g)  distance(km)\n",
       "0   cait_pretraining   40:02:47    14.000048  1126.210028     10.476372\n",
       "1     f1_pretraining   59:35:21    21.515517  1024.948272      9.534403\n",
       "2     f3_pretraining  111:11:54    40.128676  1194.298670     11.109755\n",
       "3     l1_pretraining   57:05:03    13.748647   631.333879      5.872873\n",
       "4    l1b_pretraining   55:31:01    13.242581   334.029285      3.107249\n",
       "5     l2_pretraining   79:07:25    18.763335   516.337360      4.803138\n",
       "6  n_cf2_pretraining   54:57:12    13.148518   431.759478      4.016367"
      ]
     },
     "execution_count": 5,
     "metadata": {},
     "output_type": "execute_result"
    }
   ],
   "source": [
    "# This is for all 5 folds, the estimated cost of running the full code\n",
    "pretrain_full_file = PATH+\"siim_pretrain_results_full.csv\"\n",
    "ptrain_full = pd.read_csv(pretrain_full_file)\n",
    "\n",
    "ptrain_full"
   ]
  },
  {
   "cell_type": "markdown",
   "id": "27927369",
   "metadata": {},
   "source": [
    "## Pipeline1: Training"
   ]
  },
  {
   "cell_type": "code",
   "execution_count": 7,
   "id": "6fda2842",
   "metadata": {},
   "outputs": [
    {
     "data": {
      "text/html": [
       "<div>\n",
       "<style scoped>\n",
       "    .dataframe tbody tr th:only-of-type {\n",
       "        vertical-align: middle;\n",
       "    }\n",
       "\n",
       "    .dataframe tbody tr th {\n",
       "        vertical-align: top;\n",
       "    }\n",
       "\n",
       "    .dataframe thead th {\n",
       "        text-align: right;\n",
       "    }\n",
       "</style>\n",
       "<table border=\"1\" class=\"dataframe\">\n",
       "  <thead>\n",
       "    <tr style=\"text-align: right;\">\n",
       "      <th></th>\n",
       "      <th>training_file</th>\n",
       "      <th>time</th>\n",
       "      <th>energy(kWh)</th>\n",
       "      <th>CO2eq(g)</th>\n",
       "      <th>distance(km)</th>\n",
       "    </tr>\n",
       "  </thead>\n",
       "  <tbody>\n",
       "    <tr>\n",
       "      <th>0</th>\n",
       "      <td>n_cf11</td>\n",
       "      <td>1:38:42</td>\n",
       "      <td>0.194869</td>\n",
       "      <td>9.520723</td>\n",
       "      <td>0.088565</td>\n",
       "    </tr>\n",
       "    <tr>\n",
       "      <th>1</th>\n",
       "      <td>n_cf11_1</td>\n",
       "      <td>7:33:10</td>\n",
       "      <td>0.578794</td>\n",
       "      <td>25.746986</td>\n",
       "      <td>0.239507</td>\n",
       "    </tr>\n",
       "    <tr>\n",
       "      <th>2</th>\n",
       "      <td>n_cf11_9</td>\n",
       "      <td>1:24:16</td>\n",
       "      <td>0.189512</td>\n",
       "      <td>10.865354</td>\n",
       "      <td>0.101073</td>\n",
       "    </tr>\n",
       "    <tr>\n",
       "      <th>3</th>\n",
       "      <td>n_cf11_10</td>\n",
       "      <td>1:50:25</td>\n",
       "      <td>0.231844</td>\n",
       "      <td>8.607216</td>\n",
       "      <td>0.080067</td>\n",
       "    </tr>\n",
       "    <tr>\n",
       "      <th>4</th>\n",
       "      <td>n_cf11_6</td>\n",
       "      <td>1:59:30</td>\n",
       "      <td>0.530860</td>\n",
       "      <td>19.907256</td>\n",
       "      <td>0.185184</td>\n",
       "    </tr>\n",
       "    <tr>\n",
       "      <th>5</th>\n",
       "      <td>n_cf11_7</td>\n",
       "      <td>1:46:22</td>\n",
       "      <td>0.285051</td>\n",
       "      <td>11.972152</td>\n",
       "      <td>0.111369</td>\n",
       "    </tr>\n",
       "    <tr>\n",
       "      <th>6</th>\n",
       "      <td>n_cf11_rot1</td>\n",
       "      <td>0:52:31</td>\n",
       "      <td>0.170745</td>\n",
       "      <td>6.787123</td>\n",
       "      <td>0.063136</td>\n",
       "    </tr>\n",
       "  </tbody>\n",
       "</table>\n",
       "</div>"
      ],
      "text/plain": [
       "  training_file     time  energy(kWh)   CO2eq(g)  distance(km)\n",
       "0        n_cf11  1:38:42     0.194869   9.520723      0.088565\n",
       "1      n_cf11_1  7:33:10     0.578794  25.746986      0.239507\n",
       "2      n_cf11_9  1:24:16     0.189512  10.865354      0.101073\n",
       "3     n_cf11_10  1:50:25     0.231844   8.607216      0.080067\n",
       "4      n_cf11_6  1:59:30     0.530860  19.907256      0.185184\n",
       "5      n_cf11_7  1:46:22     0.285051  11.972152      0.111369\n",
       "6   n_cf11_rot1  0:52:31     0.170745   6.787123      0.063136"
      ]
     },
     "execution_count": 7,
     "metadata": {},
     "output_type": "execute_result"
    }
   ],
   "source": [
    "# This is for 1 fold, out of 5\n",
    "# This will be used to find OUR carbon footprint\n",
    "train_1_file = PATH+\"siim_train_results_1epoch.csv\"\n",
    "train_1 = pd.read_csv(train_1_file)\n",
    "\n",
    "train_1"
   ]
  },
  {
   "cell_type": "code",
   "execution_count": 8,
   "id": "4abee22f",
   "metadata": {},
   "outputs": [
    {
     "data": {
      "text/html": [
       "<div>\n",
       "<style scoped>\n",
       "    .dataframe tbody tr th:only-of-type {\n",
       "        vertical-align: middle;\n",
       "    }\n",
       "\n",
       "    .dataframe tbody tr th {\n",
       "        vertical-align: top;\n",
       "    }\n",
       "\n",
       "    .dataframe thead th {\n",
       "        text-align: right;\n",
       "    }\n",
       "</style>\n",
       "<table border=\"1\" class=\"dataframe\">\n",
       "  <thead>\n",
       "    <tr style=\"text-align: right;\">\n",
       "      <th></th>\n",
       "      <th>training_file</th>\n",
       "      <th>time</th>\n",
       "      <th>energy(kWh)</th>\n",
       "      <th>CO2eq(g)</th>\n",
       "      <th>distance(km)</th>\n",
       "    </tr>\n",
       "  </thead>\n",
       "  <tbody>\n",
       "    <tr>\n",
       "      <th>0</th>\n",
       "      <td>n_cf11</td>\n",
       "      <td>8:13:32</td>\n",
       "      <td>0.974343</td>\n",
       "      <td>42.493534</td>\n",
       "      <td>0.395289</td>\n",
       "    </tr>\n",
       "    <tr>\n",
       "      <th>1</th>\n",
       "      <td>n_cf11_1</td>\n",
       "      <td>37:45:51</td>\n",
       "      <td>2.893969</td>\n",
       "      <td>168.435306</td>\n",
       "      <td>1.566840</td>\n",
       "    </tr>\n",
       "    <tr>\n",
       "      <th>2</th>\n",
       "      <td>n_cf11_9</td>\n",
       "      <td>7:01:21</td>\n",
       "      <td>0.947560</td>\n",
       "      <td>50.139455</td>\n",
       "      <td>0.466414</td>\n",
       "    </tr>\n",
       "    <tr>\n",
       "      <th>3</th>\n",
       "      <td>n_cf11_10</td>\n",
       "      <td>9:12:03</td>\n",
       "      <td>1.159221</td>\n",
       "      <td>34.338704</td>\n",
       "      <td>0.319430</td>\n",
       "    </tr>\n",
       "    <tr>\n",
       "      <th>4</th>\n",
       "      <td>n_cf11_6</td>\n",
       "      <td>9:57:29</td>\n",
       "      <td>2.654301</td>\n",
       "      <td>107.277989</td>\n",
       "      <td>0.997935</td>\n",
       "    </tr>\n",
       "    <tr>\n",
       "      <th>5</th>\n",
       "      <td>n_cf11_7</td>\n",
       "      <td>8:51:50</td>\n",
       "      <td>1.425256</td>\n",
       "      <td>58.111582</td>\n",
       "      <td>0.540573</td>\n",
       "    </tr>\n",
       "    <tr>\n",
       "      <th>6</th>\n",
       "      <td>n_cf11_rot1</td>\n",
       "      <td>4:22:35</td>\n",
       "      <td>0.853726</td>\n",
       "      <td>33.062484</td>\n",
       "      <td>0.307558</td>\n",
       "    </tr>\n",
       "  </tbody>\n",
       "</table>\n",
       "</div>"
      ],
      "text/plain": [
       "  training_file      time  energy(kWh)    CO2eq(g)  distance(km)\n",
       "0        n_cf11   8:13:32     0.974343   42.493534      0.395289\n",
       "1      n_cf11_1  37:45:51     2.893969  168.435306      1.566840\n",
       "2      n_cf11_9   7:01:21     0.947560   50.139455      0.466414\n",
       "3     n_cf11_10   9:12:03     1.159221   34.338704      0.319430\n",
       "4      n_cf11_6   9:57:29     2.654301  107.277989      0.997935\n",
       "5      n_cf11_7   8:51:50     1.425256   58.111582      0.540573\n",
       "6   n_cf11_rot1   4:22:35     0.853726   33.062484      0.307558"
      ]
     },
     "execution_count": 8,
     "metadata": {},
     "output_type": "execute_result"
    }
   ],
   "source": [
    "# This is for all 5 folds, the estimated cost of running the full code\n",
    "train_full_file = PATH+\"siim_train_results_full.csv\"\n",
    "train_full = pd.read_csv(train_full_file)\n",
    "\n",
    "train_full"
   ]
  },
  {
   "cell_type": "markdown",
   "id": "879d28ab",
   "metadata": {},
   "source": [
    "## Calculating Our Carbon Footprint"
   ]
  },
  {
   "cell_type": "code",
   "execution_count": 10,
   "id": "de1c2a43",
   "metadata": {},
   "outputs": [],
   "source": [
    "def calc_footprint(ptrain_df, train_df, ptrain_runs=1, train_runs=1):\n",
    "    \"\"\"\n",
    "    Function to make a dataframe containing the carbon footprint\n",
    "    of each state in the training.\n",
    "    ------------------------------\n",
    "    Parameters\n",
    "    ptrain_df: the pretraining dataframe\n",
    "    train_df: the training dataframe\n",
    "    ptrain_runs: the number of times we ran pretraining\n",
    "    train_runs: the number of times we ran training\n",
    "    \"\"\"\n",
    "    # Make new df\n",
    "    siim_fp = pd.DataFrame(columns=[\"stage\",\"CO2eq(g)\",\"distance(km)\"])\n",
    "    \n",
    "    # Compute Sums\n",
    "    ptrain_co2sum = ptrain_df[\"CO2eq(g)\"].sum() * ptrain_runs       # MULTIPLY BY NUMBER OF TIMES RAN\n",
    "    ptrain_dist_sum = ptrain_df[\"distance(km)\"].sum() * ptrain_runs # MULTIPLY BY NUMBER OF TIMES RAN\n",
    "\n",
    "    train_co2sum = train_df[\"CO2eq(g)\"].sum() * train_runs        # MULTIPLY BY NUMBER OF TIMES RAN\n",
    "    train_dist_sum = train_df[\"distance(km)\"].sum() * train_runs  # MULTIPLY BY NUMBER OF TIMES RAN\n",
    "\n",
    "    # Make new rows\n",
    "    row1 = pd.DataFrame({\"stage\":\"ptrain\", \"CO2eq(g)\":ptrain_co2sum, \"distance(km)\":ptrain_dist_sum}, index=[0])\n",
    "    row2 = pd.DataFrame({\"stage\":\"train\", \"CO2eq(g)\":train_co2sum, \"distance(km)\":train_dist_sum}, index=[1])\n",
    "\n",
    "    # Add to df\n",
    "    siim_fp = pd.concat([row1, siim_fp.loc[:]]).reset_index(drop=True)\n",
    "    siim_fp = pd.concat([row2, siim_fp.loc[:]])\n",
    "\n",
    "    return siim_fp"
   ]
  },
  {
   "cell_type": "code",
   "execution_count": 11,
   "id": "d8cb3b5f",
   "metadata": {},
   "outputs": [
    {
     "data": {
      "text/html": [
       "<div>\n",
       "<style scoped>\n",
       "    .dataframe tbody tr th:only-of-type {\n",
       "        vertical-align: middle;\n",
       "    }\n",
       "\n",
       "    .dataframe tbody tr th {\n",
       "        vertical-align: top;\n",
       "    }\n",
       "\n",
       "    .dataframe thead th {\n",
       "        text-align: right;\n",
       "    }\n",
       "</style>\n",
       "<table border=\"1\" class=\"dataframe\">\n",
       "  <thead>\n",
       "    <tr style=\"text-align: right;\">\n",
       "      <th></th>\n",
       "      <th>stage</th>\n",
       "      <th>CO2eq(g)</th>\n",
       "      <th>distance(km)</th>\n",
       "    </tr>\n",
       "  </thead>\n",
       "  <tbody>\n",
       "    <tr>\n",
       "      <th>1</th>\n",
       "      <td>train</td>\n",
       "      <td>93.406810</td>\n",
       "      <td>0.868901</td>\n",
       "    </tr>\n",
       "    <tr>\n",
       "      <th>0</th>\n",
       "      <td>ptrain</td>\n",
       "      <td>1168.426943</td>\n",
       "      <td>10.869088</td>\n",
       "    </tr>\n",
       "  </tbody>\n",
       "</table>\n",
       "</div>"
      ],
      "text/plain": [
       "    stage     CO2eq(g)  distance(km)\n",
       "1   train    93.406810      0.868901\n",
       "0  ptrain  1168.426943     10.869088"
      ]
     },
     "execution_count": 11,
     "metadata": {},
     "output_type": "execute_result"
    }
   ],
   "source": [
    "# Carbon footprint of 1 epoch \n",
    "# NEED TO ADD IN THE CORRECT NUMBER OF TIMES WE RAN EACH STAGE\n",
    "calc_footprint(ptrain_1, train_1, 1, 1)"
   ]
  },
  {
   "cell_type": "markdown",
   "id": "f0ae9099",
   "metadata": {},
   "source": [
    "# Calculating Team 2's Carbon Footprint"
   ]
  },
  {
   "cell_type": "code",
   "execution_count": 23,
   "id": "028e002d",
   "metadata": {},
   "outputs": [
    {
     "data": {
      "text/html": [
       "<div>\n",
       "<style scoped>\n",
       "    .dataframe tbody tr th:only-of-type {\n",
       "        vertical-align: middle;\n",
       "    }\n",
       "\n",
       "    .dataframe tbody tr th {\n",
       "        vertical-align: top;\n",
       "    }\n",
       "\n",
       "    .dataframe thead th {\n",
       "        text-align: right;\n",
       "    }\n",
       "</style>\n",
       "<table border=\"1\" class=\"dataframe\">\n",
       "  <thead>\n",
       "    <tr style=\"text-align: right;\">\n",
       "      <th></th>\n",
       "      <th>stage</th>\n",
       "      <th>CO2eq(g)</th>\n",
       "      <th>distance(km)</th>\n",
       "    </tr>\n",
       "  </thead>\n",
       "  <tbody>\n",
       "    <tr>\n",
       "      <th>1</th>\n",
       "      <td>train</td>\n",
       "      <td>493.859054</td>\n",
       "      <td>4.594039</td>\n",
       "    </tr>\n",
       "    <tr>\n",
       "      <th>0</th>\n",
       "      <td>ptrain</td>\n",
       "      <td>5258.916972</td>\n",
       "      <td>48.920157</td>\n",
       "    </tr>\n",
       "  </tbody>\n",
       "</table>\n",
       "</div>"
      ],
      "text/plain": [
       "    stage     CO2eq(g)  distance(km)\n",
       "1   train   493.859054      4.594039\n",
       "0  ptrain  5258.916972     48.920157"
      ]
     },
     "execution_count": 23,
     "metadata": {},
     "output_type": "execute_result"
    }
   ],
   "source": [
    "# Carbon footprint of the full training, \n",
    "team2_totals = calc_footprint(ptrain_full, train_full, 1, 1)\n",
    "team2_totals"
   ]
  },
  {
   "cell_type": "code",
   "execution_count": 24,
   "id": "5a6ab1b0",
   "metadata": {},
   "outputs": [
    {
     "name": "stdout",
     "output_type": "stream",
     "text": [
      "Team 2's CO2 total usage (not including pipeline2): 5752.78g\n",
      "Team 2's distance total (not including pipeline2): 53.51km\n"
     ]
    }
   ],
   "source": [
    "print(f\"Team 2's CO2 total usage (not including pipeline2): {round(team2_totals['CO2eq(g)'].sum(),2)}g\")\n",
    "print(f\"Team 2's distance total (not including pipeline2): {round(team2_totals['distance(km)'].sum(),2)}km\")"
   ]
  },
  {
   "cell_type": "markdown",
   "id": "bd18fd7d",
   "metadata": {},
   "source": [
    "# RevisitingTransfer"
   ]
  },
  {
   "cell_type": "markdown",
   "id": "bda436f4",
   "metadata": {},
   "source": [
    "## Base: ImageNet Freeze=False\n",
    "These results are for the number of epochs in the column \"epochs\"<br>\n",
    "The column \"class_epochs\" is the number of epochs during training the classification layer<br>\n",
    "We calculate the cost per single epoch then compute the estimated cost for all of the training (including training of the classification layer)"
   ]
  },
  {
   "cell_type": "code",
   "execution_count": 62,
   "id": "6c44a399",
   "metadata": {},
   "outputs": [],
   "source": [
    "# Load results file\n",
    "rt_frz_false_file = PATH+\"rt_imagenet_frzfalse_results.csv\"\n",
    "rt_frz_false = pd.read_csv(rt_frz_false_file)\n",
    "\n",
    "# Add string to dataset name\n",
    "rt_frz_false[\"dataset\"] = rt_frz_false[\"dataset\"].astype(str) + \"_frz_false\"\n",
    "\n",
    "# Calculate total epochs ran\n",
    "rt_frz_false[\"total_epochs\"] = rt_frz_false[\"epochs\"] + rt_frz_false[\"class_epochs\"]\n",
    "\n",
    "# Get CO2eq and distance per single epoch\n",
    "rt_frz_false[\"CO2eq(g)/e\"] = rt_frz_false[\"CO2eq(g)\"] / rt_frz_false[\"epochs\"]\n",
    "rt_frz_false[\"distance(km)/e\"] = rt_frz_false[\"distance(km)\"] / rt_frz_false[\"epochs\"]\n",
    "\n",
    "# Get Total CO2eq and distance per model\n",
    "rt_frz_false[\"total_CO2eq(g)\"] = rt_frz_false[\"CO2eq(g)/e\"] * rt_frz_false[\"total_epochs\"]\n",
    "rt_frz_false[\"total_distance(km)\"] = rt_frz_false[\"distance(km)/e\"] * rt_frz_false[\"total_epochs\"]\n",
    "\n",
    "# Round values\n",
    "rt_frz_false[[\"total_CO2eq(g)\",\"total_distance(km)\"]] = rt_frz_false[[\"total_CO2eq(g)\",\"total_distance(km)\"]].round(3)"
   ]
  },
  {
   "cell_type": "markdown",
   "id": "10acfabd",
   "metadata": {},
   "source": [
    "## Base: ImageNet Freeze=True\n",
    "These results are for the number of epochs in the column \"epochs\"<br>\n",
    "The column \"class_epochs\" is the number of epochs during training the classification layer<br>\n",
    "We calculate the cost per single epoch then compute the estimated cost for all of the training (including training of the classification layer)"
   ]
  },
  {
   "cell_type": "code",
   "execution_count": 55,
   "id": "5bc23cf8",
   "metadata": {},
   "outputs": [],
   "source": [
    "# Load results file\n",
    "rt_frz_true_file = PATH+\"rt_imagenet_frztrue_results.csv\"\n",
    "rt_frz_true = pd.read_csv(rt_frz_true_file)\n",
    "\n",
    "# calculate total epochs\n",
    "rt_frz_true[\"total_epochs\"] = rt_frz_true[\"epochs\"] + rt_frz_true[\"class_epochs\"]\n",
    "\n",
    "# Add string to dataset name\n",
    "rt_frz_true[\"dataset\"] = rt_frz_true[\"dataset\"].astype(str) + \"_frz_true\"\n",
    "\n",
    "# Calculate total epochs ran\n",
    "rt_frz_true[\"total_epochs\"] = rt_frz_true[\"epochs\"] + rt_frz_true[\"class_epochs\"]\n",
    "\n",
    "# Get CO2eq and distance per single epoch\n",
    "rt_frz_true[\"CO2eq(g)/e\"] = rt_frz_true[\"CO2eq(g)\"] / rt_frz_true[\"epochs\"]\n",
    "rt_frz_true[\"distance(km)/e\"] = rt_frz_true[\"distance(km)\"] / rt_frz_true[\"epochs\"]\n",
    "\n",
    "# Get Total CO2eq and distance per model\n",
    "rt_frz_true[\"total_CO2eq(g)\"] = rt_frz_true[\"CO2eq(g)/e\"] * rt_frz_true[\"total_epochs\"]\n",
    "rt_frz_true[\"total_distance(km)\"] = rt_frz_true[\"distance(km)/e\"] * rt_frz_true[\"total_epochs\"]\n",
    "\n",
    "# Round values\n",
    "rt_frz_true[[\"total_CO2eq(g)\",\"total_distance(km)\"]] = rt_frz_true[[\"total_CO2eq(g)\",\"total_distance(km)\"]].round(3)"
   ]
  },
  {
   "cell_type": "code",
   "execution_count": 56,
   "id": "10bd5d9f",
   "metadata": {},
   "outputs": [
    {
     "data": {
      "text/html": [
       "<div>\n",
       "<style scoped>\n",
       "    .dataframe tbody tr th:only-of-type {\n",
       "        vertical-align: middle;\n",
       "    }\n",
       "\n",
       "    .dataframe tbody tr th {\n",
       "        vertical-align: top;\n",
       "    }\n",
       "\n",
       "    .dataframe thead th {\n",
       "        text-align: right;\n",
       "    }\n",
       "</style>\n",
       "<table border=\"1\" class=\"dataframe\">\n",
       "  <thead>\n",
       "    <tr style=\"text-align: right;\">\n",
       "      <th></th>\n",
       "      <th>dataset</th>\n",
       "      <th>total_CO2eq(g)</th>\n",
       "      <th>total_distance(km)</th>\n",
       "    </tr>\n",
       "  </thead>\n",
       "  <tbody>\n",
       "    <tr>\n",
       "      <th>0</th>\n",
       "      <td>isic_frz_true</td>\n",
       "      <td>7.601</td>\n",
       "      <td>0.071</td>\n",
       "    </tr>\n",
       "    <tr>\n",
       "      <th>1</th>\n",
       "      <td>breast_frz_true</td>\n",
       "      <td>5.054</td>\n",
       "      <td>0.047</td>\n",
       "    </tr>\n",
       "    <tr>\n",
       "      <th>2</th>\n",
       "      <td>chest_frz_true</td>\n",
       "      <td>13.117</td>\n",
       "      <td>0.122</td>\n",
       "    </tr>\n",
       "    <tr>\n",
       "      <th>3</th>\n",
       "      <td>knee_frz_true</td>\n",
       "      <td>4.784</td>\n",
       "      <td>0.045</td>\n",
       "    </tr>\n",
       "    <tr>\n",
       "      <th>4</th>\n",
       "      <td>thyroid_frz_true</td>\n",
       "      <td>1.583</td>\n",
       "      <td>0.015</td>\n",
       "    </tr>\n",
       "    <tr>\n",
       "      <th>0</th>\n",
       "      <td>isic_frz_false</td>\n",
       "      <td>120.219</td>\n",
       "      <td>1.118</td>\n",
       "    </tr>\n",
       "    <tr>\n",
       "      <th>1</th>\n",
       "      <td>breast_frz_false</td>\n",
       "      <td>12.572</td>\n",
       "      <td>0.117</td>\n",
       "    </tr>\n",
       "    <tr>\n",
       "      <th>2</th>\n",
       "      <td>chest_frz_false</td>\n",
       "      <td>36.428</td>\n",
       "      <td>0.339</td>\n",
       "    </tr>\n",
       "    <tr>\n",
       "      <th>3</th>\n",
       "      <td>knee_frz_false</td>\n",
       "      <td>18.384</td>\n",
       "      <td>0.171</td>\n",
       "    </tr>\n",
       "    <tr>\n",
       "      <th>4</th>\n",
       "      <td>thyroid_frz_false</td>\n",
       "      <td>1.749</td>\n",
       "      <td>0.016</td>\n",
       "    </tr>\n",
       "  </tbody>\n",
       "</table>\n",
       "</div>"
      ],
      "text/plain": [
       "             dataset  total_CO2eq(g)  total_distance(km)\n",
       "0      isic_frz_true           7.601               0.071\n",
       "1    breast_frz_true           5.054               0.047\n",
       "2     chest_frz_true          13.117               0.122\n",
       "3      knee_frz_true           4.784               0.045\n",
       "4   thyroid_frz_true           1.583               0.015\n",
       "0     isic_frz_false         120.219               1.118\n",
       "1   breast_frz_false          12.572               0.117\n",
       "2    chest_frz_false          36.428               0.339\n",
       "3     knee_frz_false          18.384               0.171\n",
       "4  thyroid_frz_false           1.749               0.016"
      ]
     },
     "execution_count": 56,
     "metadata": {},
     "output_type": "execute_result"
    }
   ],
   "source": [
    "# Concat both revisiting transfer datasets (freeze=true and freeze=false)\n",
    "revisit_transfer = pd.concat([rt_frz_true, rt_frz_false])\n",
    "\n",
    "# Show just the total columns\n",
    "revisit_transfer[[\"dataset\",\"total_CO2eq(g)\",\"total_distance(km)\"]]"
   ]
  },
  {
   "cell_type": "code",
   "execution_count": 58,
   "id": "dbd7bb0d",
   "metadata": {},
   "outputs": [
    {
     "name": "stdout",
     "output_type": "stream",
     "text": [
      "The minimum carbon footprint of training a single model is 1.583g CO2 emissions\n"
     ]
    }
   ],
   "source": [
    "min_train_cost = revisit_transfer['total_CO2eq(g)'].min()\n",
    "print(f\"The minimum carbon footprint of training a single model is {min_train_cost}g CO2 emissions\")"
   ]
  },
  {
   "cell_type": "markdown",
   "id": "f1fc75ee",
   "metadata": {},
   "source": [
    "# Average Cost to Train a Single Model"
   ]
  },
  {
   "cell_type": "code",
   "execution_count": 18,
   "id": "44d848f5",
   "metadata": {},
   "outputs": [
    {
     "name": "stdout",
     "output_type": "stream",
     "text": [
      "The average cost of training a single model is 543.12g CO2eq\n"
     ]
    }
   ],
   "source": [
    "# CO2 cost\n",
    "\n",
    "# models trained in RT with freeze=False + models trained in RT with freeze=False + the single Kaggle project\n",
    "# the kaggle project is actually training 14 models in pipeline1, that we had tracked\n",
    "total_models_trained = len(rt_frz_false) + len(rt_frz_true) + 1\n",
    "CO2_cost_per_model = (rt_frz_true[\"total_CO2eq(g)\"].sum() + rt_frz_false[\"total_CO2eq(g)\"].sum() + team2_totals[\"CO2eq(g)\"].sum()) / total_models_trained\n",
    "print(f\"The average cost of training a single model is {round(CO2_cost_per_model,2)}g CO2eq\")"
   ]
  },
  {
   "cell_type": "code",
   "execution_count": 19,
   "id": "ed191d3b",
   "metadata": {},
   "outputs": [
    {
     "name": "stdout",
     "output_type": "stream",
     "text": [
      "The average distance cost of training a single model is 5.05km\n"
     ]
    }
   ],
   "source": [
    "# distance cost\n",
    "dist_cost_per_model = (rt_frz_true[\"total_distance(km)\"].sum() + rt_frz_false[\"total_distance(km)\"].sum() + team2_totals[\"distance(km)\"].sum()) / total_models_trained\n",
    "print(f\"The average distance cost of training a single model is {round(dist_cost_per_model,2)}km\")"
   ]
  },
  {
   "cell_type": "markdown",
   "id": "9d521cfc",
   "metadata": {},
   "source": [
    "# Carbon Footprint of the Whole Competition\n",
    "\n",
    "Total number of entries from Veronika's supplementary [information](https://static-content.springer.com/esm/art%3A10.1038%2Fs41746-022-00592-y/MediaObjects/41746_2022_592_MOESM1_ESM.pdf)."
   ]
  },
  {
   "cell_type": "code",
   "execution_count": 60,
   "id": "f274bcbc",
   "metadata": {},
   "outputs": [],
   "source": [
    "# Total entries\n",
    "total_entries = 32307\n",
    "\n",
    "# Total teams with more than 2 submissions\n",
    "total_entries_more_than_2 = 31751"
   ]
  },
  {
   "cell_type": "code",
   "execution_count": 61,
   "id": "5c32a48b",
   "metadata": {},
   "outputs": [
    {
     "data": {
      "text/plain": [
       "50261.833"
      ]
     },
     "execution_count": 61,
     "metadata": {},
     "output_type": "execute_result"
    }
   ],
   "source": [
    "# Lower bound = lowest model training cost * total entries (excluding teams who submitted 2 or less times)\n",
    "lower_bound = total_entries_more_than_2 * min_train_cost\n",
    "lower_bound"
   ]
  },
  {
   "cell_type": "code",
   "execution_count": 21,
   "id": "cea08edb",
   "metadata": {},
   "outputs": [
    {
     "name": "stdout",
     "output_type": "stream",
     "text": [
      "Which is equivalent to 275787.84lbs of CO2\n"
     ]
    }
   ],
   "source": [
    "whole_comp_cost = total_entries * CO2_cost_per_model\n",
    "\n",
    "print(f\"The estimated carbon footprint of the whole competition is {round(whole_comp_cost,2)}g CO2eq\")\n",
    "print(f\"Which is equivalent to {round(275787.835915,2)}lbs of CO2\")"
   ]
  },
  {
   "cell_type": "code",
   "execution_count": 22,
   "id": "a488510a",
   "metadata": {},
   "outputs": [
    {
     "name": "stdout",
     "output_type": "stream",
     "text": [
      "The estimated carbon footprint of the whole competition in distance driven 163224.35 km\n"
     ]
    }
   ],
   "source": [
    "whole_comp_dist = total_entries * dist_cost_per_model\n",
    "print(f\"The estimated carbon footprint of the whole competition in distance driven {round(whole_comp_dist,2)} km\")"
   ]
  },
  {
   "cell_type": "markdown",
   "id": "1f4544c8",
   "metadata": {},
   "source": [
    "Amount of teams with submissions over 2: "
   ]
  },
  {
   "cell_type": "code",
   "execution_count": null,
   "id": "a910bcf1",
   "metadata": {},
   "outputs": [],
   "source": []
  }
 ],
 "metadata": {
  "kernelspec": {
   "display_name": "Python 3 (ipykernel)",
   "language": "python",
   "name": "python3"
  },
  "language_info": {
   "codemirror_mode": {
    "name": "ipython",
    "version": 3
   },
   "file_extension": ".py",
   "mimetype": "text/x-python",
   "name": "python",
   "nbconvert_exporter": "python",
   "pygments_lexer": "ipython3",
   "version": "3.10.9"
  }
 },
 "nbformat": 4,
 "nbformat_minor": 5
}
