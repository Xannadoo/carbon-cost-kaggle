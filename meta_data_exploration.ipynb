{
 "cells": [
  {
   "cell_type": "markdown",
   "id": "e5db5b47",
   "metadata": {},
   "source": [
    " @misc{megan risdal_timo bozsolik_2022,\n",
    "\ttitle={Meta Kaggle},\n",
    "\turl={https://www.kaggle.com/ds/9},\n",
    "\tDOI={10.34740/KAGGLE/DS/9},\n",
    "\tpublisher={Kaggle},\n",
    "\tauthor={Megan Risdal and Timo Bozsolik},\n",
    "\tyear={2022}\n",
    "}\n",
    "\n",
    " @misc{megan risdal_timo bozsolik_2022,\n",
    "\ttitle={Meta Kaggle},\n",
    "\turl={https://www.kaggle.com/ds/9},\n",
    "\tDOI={10.34740/KAGGLE/DS/9},\n",
    "\tpublisher={Kaggle},\n",
    "\tauthor={Megan Risdal and Timo Bozsolik},\n",
    "\tyear={2022}\n",
    "}"
   ]
  },
  {
   "cell_type": "code",
   "execution_count": 40,
   "id": "461a6522",
   "metadata": {},
   "outputs": [],
   "source": [
    "import pandas as pd\n",
    "import numpy as np"
   ]
  },
  {
   "cell_type": "code",
   "execution_count": 42,
   "id": "fc70077a",
   "metadata": {},
   "outputs": [],
   "source": [
    "df_sub = pd.read_csv('meta_data/Submissions.csv')\n",
    "df_comp = pd.read_csv('meta_data/KernelVersionCompetitionSources.csv')"
   ]
  },
  {
   "cell_type": "code",
   "execution_count": 43,
   "id": "e938a4ed",
   "metadata": {},
   "outputs": [],
   "source": [
    "df_sub['SubmissionDate'] = pd.to_datetime(df_sub['SubmissionDate'], format=\"%m/%d/%Y\")\n",
    "df_sub['ScoreDate'] = pd.to_datetime(df_sub['ScoreDate'], format=\"%m/%d/%Y\")"
   ]
  },
  {
   "cell_type": "code",
   "execution_count": 45,
   "id": "6e49fcf5",
   "metadata": {},
   "outputs": [
    {
     "data": {
      "text/plain": [
       "((12130309, 11), (2026775, 3))"
      ]
     },
     "execution_count": 45,
     "metadata": {},
     "output_type": "execute_result"
    }
   ],
   "source": [
    "df_sub.shape, df_comp.shape"
   ]
  },
  {
   "cell_type": "code",
   "execution_count": 31,
   "id": "1e63ce52",
   "metadata": {
    "scrolled": true
   },
   "outputs": [
    {
     "data": {
      "text/plain": [
       "Id                                         int64\n",
       "SubmittedUserId                          float64\n",
       "TeamId                                     int64\n",
       "SourceKernelVersionId                    float64\n",
       "SubmissionDate                    datetime64[ns]\n",
       "ScoreDate                         datetime64[ns]\n",
       "IsAfterDeadline                             bool\n",
       "PublicScoreLeaderboardDisplay            float64\n",
       "PublicScoreFullPrecision                 float64\n",
       "PrivateScoreLeaderboardDisplay           float64\n",
       "PrivateScoreFullPrecision                float64\n",
       "dtype: object"
      ]
     },
     "execution_count": 31,
     "metadata": {},
     "output_type": "execute_result"
    }
   ],
   "source": [
    "df_sub.dtypes"
   ]
  },
  {
   "cell_type": "code",
   "execution_count": 47,
   "id": "94c9100d",
   "metadata": {},
   "outputs": [
    {
     "data": {
      "text/plain": [
       "Id                     int64\n",
       "KernelVersionId        int64\n",
       "SourceCompetitionId    int64\n",
       "dtype: object"
      ]
     },
     "execution_count": 47,
     "metadata": {},
     "output_type": "execute_result"
    }
   ],
   "source": [
    "df_comp.dtypes"
   ]
  },
  {
   "cell_type": "code",
   "execution_count": 32,
   "id": "1b3b48b1",
   "metadata": {},
   "outputs": [
    {
     "data": {
      "text/html": [
       "<div>\n",
       "<style scoped>\n",
       "    .dataframe tbody tr th:only-of-type {\n",
       "        vertical-align: middle;\n",
       "    }\n",
       "\n",
       "    .dataframe tbody tr th {\n",
       "        vertical-align: top;\n",
       "    }\n",
       "\n",
       "    .dataframe thead th {\n",
       "        text-align: right;\n",
       "    }\n",
       "</style>\n",
       "<table border=\"1\" class=\"dataframe\">\n",
       "  <thead>\n",
       "    <tr style=\"text-align: right;\">\n",
       "      <th></th>\n",
       "      <th>Id</th>\n",
       "      <th>SubmittedUserId</th>\n",
       "      <th>TeamId</th>\n",
       "      <th>SourceKernelVersionId</th>\n",
       "      <th>SubmissionDate</th>\n",
       "      <th>ScoreDate</th>\n",
       "      <th>IsAfterDeadline</th>\n",
       "      <th>PublicScoreLeaderboardDisplay</th>\n",
       "      <th>PublicScoreFullPrecision</th>\n",
       "      <th>PrivateScoreLeaderboardDisplay</th>\n",
       "      <th>PrivateScoreFullPrecision</th>\n",
       "    </tr>\n",
       "  </thead>\n",
       "  <tbody>\n",
       "    <tr>\n",
       "      <th>12130304</th>\n",
       "      <td>31040725</td>\n",
       "      <td>12313363.0</td>\n",
       "      <td>9450981</td>\n",
       "      <td>NaN</td>\n",
       "      <td>2023-04-07</td>\n",
       "      <td>2023-04-07</td>\n",
       "      <td>True</td>\n",
       "      <td>0.77450</td>\n",
       "      <td>0.774500</td>\n",
       "      <td>0.77675</td>\n",
       "      <td>0.776750</td>\n",
       "    </tr>\n",
       "    <tr>\n",
       "      <th>12130305</th>\n",
       "      <td>31038299</td>\n",
       "      <td>12313363.0</td>\n",
       "      <td>9450981</td>\n",
       "      <td>NaN</td>\n",
       "      <td>2023-04-07</td>\n",
       "      <td>2023-04-07</td>\n",
       "      <td>True</td>\n",
       "      <td>0.59375</td>\n",
       "      <td>0.593750</td>\n",
       "      <td>0.60000</td>\n",
       "      <td>0.600000</td>\n",
       "    </tr>\n",
       "    <tr>\n",
       "      <th>12130306</th>\n",
       "      <td>31100340</td>\n",
       "      <td>5072025.0</td>\n",
       "      <td>8168616</td>\n",
       "      <td>NaN</td>\n",
       "      <td>2023-04-11</td>\n",
       "      <td>2023-04-11</td>\n",
       "      <td>True</td>\n",
       "      <td>0.02407</td>\n",
       "      <td>0.024079</td>\n",
       "      <td>0.02417</td>\n",
       "      <td>0.024173</td>\n",
       "    </tr>\n",
       "    <tr>\n",
       "      <th>12130307</th>\n",
       "      <td>31155262</td>\n",
       "      <td>5072025.0</td>\n",
       "      <td>8168616</td>\n",
       "      <td>NaN</td>\n",
       "      <td>2023-04-14</td>\n",
       "      <td>2023-04-14</td>\n",
       "      <td>True</td>\n",
       "      <td>0.02365</td>\n",
       "      <td>0.023653</td>\n",
       "      <td>0.02375</td>\n",
       "      <td>0.023759</td>\n",
       "    </tr>\n",
       "    <tr>\n",
       "      <th>12130308</th>\n",
       "      <td>31212650</td>\n",
       "      <td>5072025.0</td>\n",
       "      <td>8168616</td>\n",
       "      <td>NaN</td>\n",
       "      <td>2023-04-17</td>\n",
       "      <td>2023-04-17</td>\n",
       "      <td>True</td>\n",
       "      <td>0.02399</td>\n",
       "      <td>0.023990</td>\n",
       "      <td>0.02422</td>\n",
       "      <td>0.024223</td>\n",
       "    </tr>\n",
       "  </tbody>\n",
       "</table>\n",
       "</div>"
      ],
      "text/plain": [
       "                Id  SubmittedUserId   TeamId  SourceKernelVersionId  \\\n",
       "12130304  31040725       12313363.0  9450981                    NaN   \n",
       "12130305  31038299       12313363.0  9450981                    NaN   \n",
       "12130306  31100340        5072025.0  8168616                    NaN   \n",
       "12130307  31155262        5072025.0  8168616                    NaN   \n",
       "12130308  31212650        5072025.0  8168616                    NaN   \n",
       "\n",
       "         SubmissionDate  ScoreDate  IsAfterDeadline  \\\n",
       "12130304     2023-04-07 2023-04-07             True   \n",
       "12130305     2023-04-07 2023-04-07             True   \n",
       "12130306     2023-04-11 2023-04-11             True   \n",
       "12130307     2023-04-14 2023-04-14             True   \n",
       "12130308     2023-04-17 2023-04-17             True   \n",
       "\n",
       "          PublicScoreLeaderboardDisplay  PublicScoreFullPrecision  \\\n",
       "12130304                        0.77450                  0.774500   \n",
       "12130305                        0.59375                  0.593750   \n",
       "12130306                        0.02407                  0.024079   \n",
       "12130307                        0.02365                  0.023653   \n",
       "12130308                        0.02399                  0.023990   \n",
       "\n",
       "          PrivateScoreLeaderboardDisplay  PrivateScoreFullPrecision  \n",
       "12130304                         0.77675                   0.776750  \n",
       "12130305                         0.60000                   0.600000  \n",
       "12130306                         0.02417                   0.024173  \n",
       "12130307                         0.02375                   0.023759  \n",
       "12130308                         0.02422                   0.024223  "
      ]
     },
     "execution_count": 32,
     "metadata": {},
     "output_type": "execute_result"
    }
   ],
   "source": [
    "df_sub.tail(5)"
   ]
  },
  {
   "cell_type": "code",
   "execution_count": 33,
   "id": "7b7fe266",
   "metadata": {},
   "outputs": [
    {
     "data": {
      "text/plain": [
       "Id                                      0\n",
       "SubmittedUserId                      1346\n",
       "TeamId                                  0\n",
       "SourceKernelVersionId             8796838\n",
       "SubmissionDate                          0\n",
       "ScoreDate                          530450\n",
       "IsAfterDeadline                         0\n",
       "PublicScoreLeaderboardDisplay      286557\n",
       "PublicScoreFullPrecision           286557\n",
       "PrivateScoreLeaderboardDisplay     286557\n",
       "PrivateScoreFullPrecision          286557\n",
       "dtype: int64"
      ]
     },
     "execution_count": 33,
     "metadata": {},
     "output_type": "execute_result"
    }
   ],
   "source": [
    "df_sub.isna().sum()"
   ]
  },
  {
   "cell_type": "code",
   "execution_count": null,
   "id": "a750c232",
   "metadata": {},
   "outputs": [],
   "source": []
  }
 ],
 "metadata": {
  "kernelspec": {
   "display_name": "Python 3 (ipykernel)",
   "language": "python",
   "name": "python3"
  },
  "language_info": {
   "codemirror_mode": {
    "name": "ipython",
    "version": 3
   },
   "file_extension": ".py",
   "mimetype": "text/x-python",
   "name": "python",
   "nbconvert_exporter": "python",
   "pygments_lexer": "ipython3",
   "version": "3.8.10"
  }
 },
 "nbformat": 4,
 "nbformat_minor": 5
}
